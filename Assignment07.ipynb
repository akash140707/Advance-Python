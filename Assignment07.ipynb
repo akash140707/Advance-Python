{
  "nbformat": 4,
  "nbformat_minor": 0,
  "metadata": {
    "colab": {
      "provenance": []
    },
    "kernelspec": {
      "name": "python3",
      "display_name": "Python 3"
    },
    "language_info": {
      "name": "python"
    }
  },
  "cells": [
    {
      "cell_type": "markdown",
      "source": [
        "Q1. What is the purpose of the try statement?\n",
        "\n",
        "**Ans:** **try** statement is used for exception handling in python. it consists of a block of risky statements which might cause an exception during runtime. if code within try block raises exception, then the exception will be reverted to the corresponding except block if multiple except blocks are present, else it willbe reverted to the default except block. In short try and except in union avoid programs from crashing during runtime due to exceptions."
      ],
      "metadata": {
        "id": "wUS1Y2-Mjurj"
      }
    },
    {
      "cell_type": "code",
      "execution_count": 1,
      "metadata": {
        "colab": {
          "base_uri": "https://localhost:8080/"
        },
        "id": "q9KGHLEZjsu9",
        "outputId": "d56e363e-aa3a-4528-9c81-499a0d4dd732"
      },
      "outputs": [
        {
          "output_type": "stream",
          "name": "stdout",
          "text": [
            "Division by Zero is Not Possible\n"
          ]
        }
      ],
      "source": [
        "try:\n",
        "    print(10/0)\n",
        "except ZeroDivisionError:\n",
        "    print('Division by Zero is Not Possible')"
      ]
    },
    {
      "cell_type": "markdown",
      "source": [
        "Q2. What are the two most popular try statement variations?\n",
        "\n",
        "**Ans:** The Popular try statement variations are:\n",
        "\n",
        "1. try,except\n",
        "2. try,except,finally\n",
        "3. try,except,finally,else\n",
        "The **try** block is used to check code for exceptions during runtime. ie code inside try block will execute completely when there is no error in the program. Whereas the code inside except block will execute whenever the program encounters some error in the preceeding **try** block.\n",
        "\n",
        "Whereas the code enters the **else** block if and only if the try clause does not raise and exception. The code in the **finally** block will execute irrespective of exception."
      ],
      "metadata": {
        "id": "og5vmh65j5qn"
      }
    },
    {
      "cell_type": "markdown",
      "source": [
        "Q3. What is the purpose of the raise statement?\n",
        "\n",
        "**Ans:** **raise** statement is used to trigger an exception explicitly, if a certain condition is not as per requirement of programmer. **raise** statement helps in triggering exception as per programming logic."
      ],
      "metadata": {
        "id": "yMK6spswkYdz"
      }
    },
    {
      "cell_type": "markdown",
      "source": [
        "Q4. What does the assert statement do, and what other statement is it like?\n",
        "\n",
        "**Ans:** There are few assertions that programmer always want to be true to avoid code failure. This type of requirement is fulfilled by assert statement. This statement takes a boolean condition output of which is True, Further Program Executes. if output of assert statement is False, it raises an Assertion Error."
      ],
      "metadata": {
        "id": "jQPHhxrvkiJg"
      }
    },
    {
      "cell_type": "code",
      "source": [
        "assert(2 == 4), f'this is not a valid statement'"
      ],
      "metadata": {
        "colab": {
          "base_uri": "https://localhost:8080/",
          "height": 165
        },
        "id": "8UqPpeHcjzvN",
        "outputId": "0814a8d1-8480-4ef2-f544-1f4a111545b0"
      },
      "execution_count": 2,
      "outputs": [
        {
          "output_type": "error",
          "ename": "AssertionError",
          "evalue": "ignored",
          "traceback": [
            "\u001b[0;31m---------------------------------------------------------------------------\u001b[0m",
            "\u001b[0;31mAssertionError\u001b[0m                            Traceback (most recent call last)",
            "\u001b[0;32m<ipython-input-2-b7228a17c25c>\u001b[0m in \u001b[0;36m<cell line: 1>\u001b[0;34m()\u001b[0m\n\u001b[0;32m----> 1\u001b[0;31m \u001b[0;32massert\u001b[0m\u001b[0;34m(\u001b[0m\u001b[0;36m2\u001b[0m \u001b[0;34m==\u001b[0m \u001b[0;36m4\u001b[0m\u001b[0;34m)\u001b[0m\u001b[0;34m,\u001b[0m \u001b[0;34mf'this is not a valid statement'\u001b[0m\u001b[0;34m\u001b[0m\u001b[0;34m\u001b[0m\u001b[0m\n\u001b[0m",
            "\u001b[0;31mAssertionError\u001b[0m: this is not a valid statement"
          ]
        }
      ]
    },
    {
      "cell_type": "markdown",
      "source": [
        "Q5. What is the purpose of the with/as argument, and what other statement is it like?\n",
        "\n",
        "Ans: with/as statement simplifies use of file handling in python. When we use a with statement for file reading, there is no need for programmer to explicitly takecare of activities like resource deallocation and file closing by using file.close() method. with statement itself ensures proper acquisition and release of resources. this avoids triggering of exceptions if file closing is unknowingly forgotten in the code execution.\n",
        "\n",
        "with open('sample_file.txt','w') as file: file.write('Hello World')"
      ],
      "metadata": {
        "id": "1jadnyUMk7yr"
      }
    },
    {
      "cell_type": "code",
      "source": [],
      "metadata": {
        "id": "FauZx95Jk2go"
      },
      "execution_count": null,
      "outputs": []
    }
  ]
}