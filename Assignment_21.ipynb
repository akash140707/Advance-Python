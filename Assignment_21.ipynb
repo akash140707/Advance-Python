{
  "nbformat": 4,
  "nbformat_minor": 0,
  "metadata": {
    "colab": {
      "provenance": []
    },
    "kernelspec": {
      "name": "python3",
      "display_name": "Python 3"
    },
    "language_info": {
      "name": "python"
    }
  },
  "cells": [
    {
      "cell_type": "markdown",
      "source": [
        "Q1. What is a probability distribution, exactly? If the values are meant to be random, how can you predict them at all ?\n",
        "\n",
        "**Ans:** A probability distribution describes how a random variable is distributed.\n",
        "\n",
        "It tells us which values a random variable is most likely to take on and which values are less likely. Based on the previous data and the occurences of the random event, we can predict the outcome in terms of probabilities."
      ],
      "metadata": {
        "id": "SfUke4ipJzwi"
      }
    },
    {
      "cell_type": "markdown",
      "source": [
        "Q2. Is there a distinction between true random numbers and pseudo-random numbers, if there is one? Why are the latter considered “good enough”?\n",
        "\n",
        "**Ans: :** True Random Numbers are true physical values while pseudo-random numbers are generated internally by a program . Latter is considered good enough as they have sort of uniform distribution."
      ],
      "metadata": {
        "id": "rPKhnVLDJ4En"
      }
    },
    {
      "cell_type": "markdown",
      "source": [
        "Q3. What are the two main factors that influence the behaviour of a \"normal\" probability distribution ?\n",
        "\n",
        "**Ans:** Normal Probability Distribution are influenced by two factors mean and the variance."
      ],
      "metadata": {
        "id": "MEXFKTlSJ-KI"
      }
    },
    {
      "cell_type": "markdown",
      "source": [
        "Q4. Provide a real-life example of a normal distribution ?\n",
        "\n",
        "**Ans:** A Real-life example of a normal distribution are heights or blood pressure measurements"
      ],
      "metadata": {
        "id": "pBHq_Dw8KBi8"
      }
    },
    {
      "cell_type": "markdown",
      "source": [
        "Q5. In the short term, how can you expect a probability distribution to behave? What do you think will happen as the number of trials grows ?\n",
        "\n",
        "**Ans:** Variance will decrease with number of trials"
      ],
      "metadata": {
        "id": "EPHg86TEKHG9"
      }
    },
    {
      "cell_type": "markdown",
      "source": [
        "Q6. What kind of object can be shuffled by using random.shuffle ?\n",
        "\n",
        "**Ans:** lists (list), strings (str) and tuples (tuple) objects can be shuffled by using random.shuffle."
      ],
      "metadata": {
        "id": "ctEdk1GHKNGY"
      }
    },
    {
      "cell_type": "markdown",
      "source": [
        "Q7. Describe the math package's general categories of functions ?\n",
        "\n",
        "**Ans:** The Math package's general categories of functions are:\n",
        "\n",
        "1. Trigonometric functions\n",
        "2. Quadratic functions\n",
        "3. Exponential functions\n",
        "4. Hyperbolic functions\n",
        "5. Periodic functions\n",
        "6. Arithmetic functions\n",
        "7. Logarithimic functions\n",
        "8. Conversions to Integer"
      ],
      "metadata": {
        "id": "Y38c72QxKTMJ"
      }
    },
    {
      "cell_type": "markdown",
      "source": [
        "Q8. What is the relationship between exponentiation and logarithms ?\n",
        "\n",
        "**Ans:** Exponentiation and logarithms are inverse of each other."
      ],
      "metadata": {
        "id": "UxrdnRUIKf80"
      }
    },
    {
      "cell_type": "markdown",
      "source": [
        "Q9. What are the three logarithmic functions that Python supports ?\n",
        "\n",
        "**Ans:** The Three Logarithmic Functions that Python supports are:\n",
        "\n",
        "1. log2(x) - logarithmic value of x to base 2\n",
        "2. log10(x) - logarithmic value of x to base 10\n",
        "3. log1p(a) - This function is used to compute logarithm(1+a) ."
      ],
      "metadata": {
        "id": "gXpV72MWKkgd"
      }
    },
    {
      "cell_type": "code",
      "execution_count": null,
      "metadata": {
        "id": "M8p2xr_bJtTp"
      },
      "outputs": [],
      "source": []
    }
  ]
}