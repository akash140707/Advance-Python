{
  "nbformat": 4,
  "nbformat_minor": 0,
  "metadata": {
    "colab": {
      "provenance": []
    },
    "kernelspec": {
      "name": "python3",
      "display_name": "Python 3"
    },
    "language_info": {
      "name": "python"
    }
  },
  "cells": [
    {
      "cell_type": "markdown",
      "source": [
        "Q1. What is the concept of a metaclass?\n",
        "\n",
        "Ans: Metaclass in Python is a class of a class that defines how a class behaves. A class is itself a instance of Metaclass, and any Instance of Class in Python is an Instance of type metaclass. E.g. Type of of int, str, float, list, tuple and many more is of metaclass type."
      ],
      "metadata": {
        "id": "fknVdnsevFNo"
      }
    },
    {
      "cell_type": "markdown",
      "source": [
        "Q2. What is the best way to declare a class's metaclass?\n",
        "\n",
        "**Ans:** A way to declare a class’ metaclass is by using **metaclass** keyword in class definition."
      ],
      "metadata": {
        "id": "tncr1tMovLW3"
      }
    },
    {
      "cell_type": "code",
      "execution_count": 1,
      "metadata": {
        "colab": {
          "base_uri": "https://localhost:8080/"
        },
        "id": "F3rAafpavDUQ",
        "outputId": "fa9376f7-100c-46a0-8e93-0af01d887515"
      },
      "outputs": [
        {
          "output_type": "stream",
          "name": "stdout",
          "text": [
            "<class 'type'>\n",
            "<class '__main__.meta'>\n"
          ]
        }
      ],
      "source": [
        "class meta(type):\n",
        "    pass\n",
        "class class_meta(metaclass=meta):\n",
        "    pass\n",
        "print(type(meta))\n",
        "print(type(class_meta))"
      ]
    },
    {
      "cell_type": "markdown",
      "source": [
        "Q3. How do class decorators overlap with metaclasses for handling classes ?\n",
        "\n",
        "**Ans:** Anything you can do with a class decorator, you can of course do with a custom metaclasses (just apply the functionality of the \"decorator function\", i.e., the one that takes a class object and modifies it, in the course of the metaclass's **__new __** or **__init __** that make the class object!)."
      ],
      "metadata": {
        "id": "Dp_-e59cvYUY"
      }
    },
    {
      "cell_type": "markdown",
      "source": [
        "Q4. How do class decorators overlap with metaclasses for handling instances?\n",
        "\n",
        "**Ans:** Anything you can do with a class decorator, you can of course do with a custom metaclass (just apply the functionality of the \"decorator function\", i.e., the one that takes a class object and modifies it, in the course of the metaclass's **__new __** or **__init __** that make the class object!)."
      ],
      "metadata": {
        "id": "kSG6wNsevjK3"
      }
    },
    {
      "cell_type": "code",
      "source": [],
      "metadata": {
        "id": "thKs8yyrvRXe"
      },
      "execution_count": null,
      "outputs": []
    }
  ]
}