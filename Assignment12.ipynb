{
  "nbformat": 4,
  "nbformat_minor": 0,
  "metadata": {
    "colab": {
      "provenance": []
    },
    "kernelspec": {
      "name": "python3",
      "display_name": "Python 3"
    },
    "language_info": {
      "name": "python"
    }
  },
  "cells": [
    {
      "cell_type": "markdown",
      "source": [
        "Q1. Does assigning a value to a string's indexed character violate Python's string immutability ?\n",
        "\n",
        "**Ans:** String’s indexed character cannot to be assigned a New value , as Strings are **immutable**.\n",
        "Example:\n",
        "name = \"Reinforcement\"\n",
        "print(id(name)) #73472\n",
        "name[0] = \"V\" # Raises TypeError"
      ],
      "metadata": {
        "id": "kl7bInezwNxI"
      }
    },
    {
      "cell_type": "markdown",
      "source": [
        "Q2. Does using the += operator to concatenate strings violate Python's string immutability? Why or why not ?\n",
        "\n",
        "Ans: += operator is used to concatenate strings, it does not violate Python’s string immutability Property. Because doing so new creates a new association with data and variable. E.g. str_1=\"a\" and str_1+=\"b. effect of this statements to create string ab and reassign it to variable str_1, any string data is not actually modified."
      ],
      "metadata": {
        "id": "I1u4QPFmwU6x"
      }
    },
    {
      "cell_type": "code",
      "execution_count": 1,
      "metadata": {
        "colab": {
          "base_uri": "https://localhost:8080/"
        },
        "id": "rWH2mHrMv4FM",
        "outputId": "1deccc47-e39a-403a-de32-e61dfd9d72a5"
      },
      "outputs": [
        {
          "output_type": "stream",
          "name": "stdout",
          "text": [
            "139961469665008\n",
            "139961184517744\n"
          ]
        }
      ],
      "source": [
        "str_1 = 'a'\n",
        "print(id(str_1))\n",
        "str_1 += 'b'\n",
        "print(id(str_1)) # Does not Modify existing string, Creates a New String Object"
      ]
    },
    {
      "cell_type": "markdown",
      "source": [
        "Q3. In Python, how many different ways are there to index a character?\n",
        "\n",
        "**Ans:** A Character in string can be indexed using string name followed by index number of character in square bracket. **Positive** **Indexing** i.e. first index is 0 an so on, or **Negative Indexing** i.e. last letter is -1 and so on can be used to index a character"
      ],
      "metadata": {
        "id": "e3WoFergwhys"
      }
    },
    {
      "cell_type": "code",
      "source": [
        "in_string = \"iNeuron Full Stack Data Science\"\n",
        "print(in_string[9],in_string[10],in_string[2]) # Positive Indexing\n",
        "print(in_string[-1],in_string[-5],in_string[-2]) # Negative Indexing"
      ],
      "metadata": {
        "colab": {
          "base_uri": "https://localhost:8080/"
        },
        "id": "KGEpdLzawf8W",
        "outputId": "fadab569-6fad-4521-c403-f66e31bc58cf"
      },
      "execution_count": 2,
      "outputs": [
        {
          "output_type": "stream",
          "name": "stdout",
          "text": [
            "u l e\n",
            "e i c\n"
          ]
        }
      ]
    },
    {
      "cell_type": "markdown",
      "source": [
        "Q4. What is the relationship between indexing and slicing?\n",
        "\n",
        "**Ans:** We can access elements of sequence datatypes by using slicing and indexing. Indexing is used to obtaining individual element while slicing for sequence of elements."
      ],
      "metadata": {
        "id": "8neIOVxlwtyC"
      }
    },
    {
      "cell_type": "code",
      "source": [
        "in_string = \"iNeuron Full Stack Data Science\"\n",
        "print(in_string[1],in_string[3],in_string[5]) # Indexing\n",
        "print(in_string[1:15]) # Slicing"
      ],
      "metadata": {
        "colab": {
          "base_uri": "https://localhost:8080/"
        },
        "id": "2KqGWe8FwruW",
        "outputId": "962fc853-22d4-4a67-d413-f5fc9363660f"
      },
      "execution_count": 3,
      "outputs": [
        {
          "output_type": "stream",
          "name": "stdout",
          "text": [
            "N u o\n",
            "Neuron Full St\n"
          ]
        }
      ]
    },
    {
      "cell_type": "markdown",
      "source": [
        "Q5. What is an indexed character's exact data type? What is the data form of a slicing-generated substring?\n",
        "\n",
        "Ans: Indexed characters and sliced substrings have datatype **String**."
      ],
      "metadata": {
        "id": "0AfTorv8w0YY"
      }
    },
    {
      "cell_type": "code",
      "source": [
        "in_string = \"iNeuron Full Stack Data Science\"\n",
        "print(type(in_string[3])) # Indexing -> str\n",
        "print(type(in_string[1:10])) # Indexing -> str"
      ],
      "metadata": {
        "colab": {
          "base_uri": "https://localhost:8080/"
        },
        "id": "gRT5SvAcwyuV",
        "outputId": "bcf1cad6-9a0d-4cca-c9eb-ee6bc16ab868"
      },
      "execution_count": 4,
      "outputs": [
        {
          "output_type": "stream",
          "name": "stdout",
          "text": [
            "<class 'str'>\n",
            "<class 'str'>\n"
          ]
        }
      ]
    },
    {
      "cell_type": "markdown",
      "source": [
        "Q6. What is the relationship between string and character \"types\" in Python?\n",
        "\n",
        "**Ans:** Object that contains sequence of character datatypes are called String."
      ],
      "metadata": {
        "id": "py3FOj7_w-LF"
      }
    },
    {
      "cell_type": "markdown",
      "source": [
        "Q7. Identify at least two operators & one method that allow you to combine one or more smaller strings to create a larger string ?\n",
        "\n",
        "**Ans:** +, += and * allow to combine one or more smaller strings to create a larger string. **< string>.join(< sep>)** method joins element of iterable type like list and tuple to get a combined string."
      ],
      "metadata": {
        "id": "EL35HWxUxBqs"
      }
    },
    {
      "cell_type": "code",
      "source": [
        "in_string = 'iNeuron '\n",
        "in_string += 'Full Stack Data Science'\n",
        "print(in_string + ' FSDS')\n",
        "print('FSDS '*3)\n",
        "print(\" \".join(['I','N','E','U','R','O','N'])) # List Iterable\n",
        "print(\" \".join(('I','N','E','U','R','O','N')).lower()) # Tuple Iterable"
      ],
      "metadata": {
        "colab": {
          "base_uri": "https://localhost:8080/"
        },
        "id": "0aj3jVsEw7j6",
        "outputId": "d6ed7459-2b5a-4fcc-dcbc-299553e81718"
      },
      "execution_count": 5,
      "outputs": [
        {
          "output_type": "stream",
          "name": "stdout",
          "text": [
            "iNeuron Full Stack Data Science FSDS\n",
            "FSDS FSDS FSDS \n",
            "I N E U R O N\n",
            "i n e u r o n\n"
          ]
        }
      ]
    },
    {
      "cell_type": "markdown",
      "source": [
        "Q8. What is the benefit of first checking the target string with in or not in before using the index method to find a substring ?\n",
        "\n",
        "**Ans:** Checking the target string with **in** or **not** Operators before using the index method to find a substring just helps confirming availability of substring and thus avoid raising of\n",
        " **ValueError**.\n",
        "**Example**:\n",
        "\n",
        "in_string = \"ineuron\"\n",
        "\n",
        "in_string.index('x') # Raises ValueError\n",
        "\n",
        "in_string.index('u') # 3"
      ],
      "metadata": {
        "id": "qlHJELq2xQKE"
      }
    },
    {
      "cell_type": "markdown",
      "source": [
        "Q9. Which operators and built-in string methods produce simple Boolean (true/false) results?\n",
        "\n",
        "**Ans:** The String Operators and built-in methods to Produce Simple Boolean (True/False) Results are:\n",
        "\n",
        "* in\n",
        "* not\n",
        "* **< string>.isalpha()**\n",
        "* **< string>.isalnum()**\n",
        "* **< string>.isdecimal()**\n",
        "* **< string>.isdigit()**\n",
        "* **< string>.islower()**\n",
        "* **< string>.isnumeric()**\n",
        "* **< string>.isprintable()**\n",
        "* **< string>.isspace()**\n",
        "* **< string>.istitle()**"
      ],
      "metadata": {
        "id": "wTfPa2LJxfx6"
      }
    },
    {
      "cell_type": "code",
      "source": [],
      "metadata": {
        "id": "MCsO6cs0xNr-"
      },
      "execution_count": null,
      "outputs": []
    }
  ]
}